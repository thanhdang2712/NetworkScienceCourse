{
  "cells": [
    {
      "cell_type": "markdown",
      "id": "bd54d6bf",
      "metadata": {
        "id": "bd54d6bf"
      },
      "source": [
        "# ACTIVE LEARNING EXERCISE 1 \n",
        "## Networks: Friends, Terrorists, and Epidemics\n",
        "## Due by 11:55pm on Friday, September 9, 2022\n",
        "\n",
        "### Name: \n",
        "### Group Member(s):\n",
        "\n",
        "## GUIDELINES\n",
        "- This homework assignment is due by 11:55pm on Friday, September 9, 2022.  You may either type or write out your responses. You should provide your own solutions for the questions. For the assignment you can use resources available to you (e.g., textbook, notes, your classmates, tutor, and Prof. Ay.)\n",
        "- To receive full credit, you must show all of your work and adhere to the formatting guidelines outlined here. Please keep in mind that some of the questions may be graded based on their completion.\n",
        "- Please write your name on your assignment. Submit the answers to questions electronically in one or more documents by uploading a PDF or set of images to Gradescope. If you submit a pdf file, please select each question and then click on the page(s) for that question. Instructions for submitting your work can be found in the posted video (https://www.youtube.com/watch?v=u-pK4GzpId0).\n",
        "- You are welcome to use Python to perform calculations or check your work. Just be sure to include any equations and Python code that you used.\n",
        "- You can use https://colab.research.google.com/ website to work on this notebook. After finishing your work you can download the notebook.\n",
        "- You can use a resource such as https://www.vertopal.com/en/convert/ipynb-to-pdf to convert your Python notebook to a pdf file.\n",
        "- You can use a resource such as https://combinepdf.com/ website to combine pdf files. For example if you want to combine your handwritten solutions with your answers that you created through a computer.\n",
        "- For the non-coding questions in this assignment, you may enter your responses beneath the question, or write your answers in a Word document and convert it to a pdf file, or write your answers by hand on a piece of paper, photograph it, and convert it to a pdf file.\n",
        "\n",
        "\n",
        "\n",
        "## Q1. (3 pts)\n",
        "\n",
        "A simple network consists of N nodes in a single component. What is the maximum/minimum possible number of links it could have? \n",
        "\n",
        "Let's work out this example incrementally.\n",
        "\n",
        "Let N=3. Draw the two networks (with the maximum number of links and minimum number of links) by hand.\n",
        "\n",
        "Let N=4. Draw the two networks (with the maximum number of links and minimum number of links) and compare to N=3 case. \n",
        "\n",
        "Do you observe any trend? What is the maximum possible number of links a network with N nodes could have? What is the minimum possible number of links a network with N does could have?\n",
        "\n",
        "## A1."
      ]
    },
    {
      "cell_type": "markdown",
      "id": "5533f685",
      "metadata": {
        "id": "5533f685"
      },
      "source": [
        "ANSWER:  "
      ]
    },
    {
      "cell_type": "markdown",
      "id": "7ee15e41",
      "metadata": {
        "id": "7ee15e41"
      },
      "source": [
        "## Q2. (5 pts)\n",
        "\n",
        "A. Which word or words from the following list describe each of the networks below: *directed, undirected, weighted, multigraph, with self interactions*\n",
        "\n",
        "- Collaboration Network\n",
        "\n",
        "- Mobile Phone Calls        \n",
        "\n",
        "B. Give one real-life example of each of the following types of networks, not including the examples above:\n",
        "- A weighted directed network\n",
        "- An undirected multigraph\n",
        "\n",
        "C. Describe briefly one empirical technique that could be used to find the structure of each of the following networks (i.e., to fully determine the positions of all the edges):\n",
        "- A citation network of scientific papers\n",
        "- A network of friendships between a group of co-workers\n",
        "\n",
        "## A2.\n"
      ]
    },
    {
      "cell_type": "markdown",
      "id": "10739864",
      "metadata": {
        "id": "10739864"
      },
      "source": [
        "ANSWER:  "
      ]
    },
    {
      "cell_type": "markdown",
      "id": "5c04a5e4",
      "metadata": {
        "id": "5c04a5e4"
      },
      "source": [
        "## Q3. (2 pts)\n",
        "\n",
        "Tell me of the network you are personally most interested in. Address the following questions:\n",
        "- What are its nodes and links?\n",
        "- How large is it?\n",
        "- Can be mapped out?\n",
        "- Why do you care about it?\n",
        "\n",
        "## A3."
      ]
    },
    {
      "cell_type": "markdown",
      "id": "2b681936",
      "metadata": {
        "id": "2b681936"
      },
      "source": [
        "ANSWER:  "
      ]
    },
    {
      "cell_type": "markdown",
      "id": "d9b9aea2",
      "metadata": {
        "id": "d9b9aea2"
      },
      "source": [
        "## Q4. (2 pts)\n",
        "\n",
        "In your view what would be the area where network science could have the biggest impact in the next decade? Explain your answer.\n",
        "\n",
        "## A4."
      ]
    },
    {
      "cell_type": "markdown",
      "id": "b0675c4f",
      "metadata": {
        "id": "b0675c4f"
      },
      "source": [
        "ANSWER:  "
      ]
    },
    {
      "cell_type": "markdown",
      "id": "b2a71a7f",
      "metadata": {
        "id": "b2a71a7f"
      },
      "source": [
        "## Q5. (3 pts)\n",
        "\n",
        "In your own terms provide a one paragraph summary of the The First Link: Introduction chapter of the Linked book by Barabasi.\n",
        "\n",
        "## A5."
      ]
    },
    {
      "cell_type": "markdown",
      "id": "11a91144",
      "metadata": {
        "id": "11a91144"
      },
      "source": [
        "ANSWER:  "
      ]
    },
    {
      "cell_type": "markdown",
      "id": "a596f526",
      "metadata": {
        "id": "a596f526"
      },
      "source": [
        "## Q6. (5 pts)\n",
        "\n",
        "For the following friendship network please calculate the following\n",
        "\n",
        "Anne is friend with Elisa, Diana, and Bob.\n",
        "Elisa is friend with Anne and Carl.\n",
        "Diana is friend with Anne, Bob and Carl.\n",
        "Carl is friend with Diana, Elisa, and Bob.\n",
        "Bob is friend with Anne, Diana, and Carl.\n",
        "\n",
        "A. By hand (without using a computer):\n",
        "\n",
        "- Create the adjacency matrix.\n",
        "\n",
        "- Create a plot of this network.\n",
        "\n",
        "- The total number of links, average degree, and degree of Bob in this network.\n",
        "\n",
        "B. Using NetworkX library's functions (Please show your code):\n",
        "\n",
        "- Create the adjacency matrix.\n",
        "\n",
        "- Create a plot of this network.\n",
        "\n",
        "- The total number of links, average degree, and degree of Bob in this network.\n",
        "\n",
        "## A6."
      ]
    },
    {
      "cell_type": "code",
      "execution_count": null,
      "id": "8b9939c1",
      "metadata": {
        "id": "8b9939c1"
      },
      "outputs": [],
      "source": [
        "import networkx as nx            # Import NetworkX library for its network functions\n",
        "import numpy as np               # Import NumPy library for its mathematical functions\n",
        "import matplotlib.pyplot as plt  # Import Matplotlib library for its plotting functions\n",
        "# PLEASE WRITE YOUR CODE HERE"
      ]
    },
    {
      "cell_type": "markdown",
      "source": [
        "ANSWER: "
      ],
      "metadata": {
        "id": "S7_X3JAgTfSZ"
      },
      "id": "S7_X3JAgTfSZ"
    },
    {
      "cell_type": "markdown",
      "id": "53cff14a",
      "metadata": {
        "id": "53cff14a"
      },
      "source": [
        "## Q7. (5 pts)\n",
        "\n",
        "For the following directed network please calculate the following\n",
        "\n",
        "Directed Links A to B, B to C, B to D, B to E, E to D, D to C and D to B\n",
        "\n",
        "A. By hand (without using a computer):\n",
        "\n",
        "- Create the adjacency matrix.\n",
        "\n",
        "- Create a plot of this network.\n",
        "\n",
        "- The total number of links, average degree, and indegree and outdegree of node B in this network.\n",
        "\n",
        "B. Using NetworkX library's functions (Please show your code):\n",
        "\n",
        "- Create the adjacency matrix.\n",
        "\n",
        "- Create a plot of this network.\n",
        "\n",
        "- The total number of links, average degree, and indegree and outdegree of node B in this network.\n",
        "\n",
        "## A7."
      ]
    },
    {
      "cell_type": "code",
      "execution_count": null,
      "id": "511a73bc",
      "metadata": {
        "id": "511a73bc"
      },
      "outputs": [],
      "source": [
        "import networkx as nx            # Import NetworkX library for its network functions\n",
        "import numpy as np               # Import NumPy library for its mathematical functions\n",
        "import matplotlib.pyplot as plt  # Import Matplotlib library for its plotting functions\n",
        "# PLEASE WRITE YOUR CODE HERE"
      ]
    },
    {
      "cell_type": "markdown",
      "source": [
        "ANSWER:"
      ],
      "metadata": {
        "id": "0sExthxBTlfs"
      },
      "id": "0sExthxBTlfs"
    }
  ],
  "metadata": {
    "kernelspec": {
      "display_name": "Python 3",
      "language": "python",
      "name": "python3"
    },
    "language_info": {
      "codemirror_mode": {
        "name": "ipython",
        "version": 3
      },
      "file_extension": ".py",
      "mimetype": "text/x-python",
      "name": "python",
      "nbconvert_exporter": "python",
      "pygments_lexer": "ipython3",
      "version": "3.8.8"
    },
    "colab": {
      "provenance": [],
      "collapsed_sections": []
    }
  },
  "nbformat": 4,
  "nbformat_minor": 5
}