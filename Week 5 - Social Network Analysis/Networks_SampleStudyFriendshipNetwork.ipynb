{
  "cells": [
    {
      "cell_type": "markdown",
      "metadata": {
        "id": "g3y2ZzPorjKG"
      },
      "source": [
        "# Networks: Friends, Epidemics & Terrorists\n",
        "## Network Science: Another Example Study\n",
        "\n",
        "The goal of this handout is to show you an example network science application. Please note that the interpretations in this network can be improved. In your assignments you can use more network metrics. And, you should provide a better interpretation of your data."
      ]
    },
    {
      "cell_type": "code",
      "execution_count": 5,
      "metadata": {
        "id": "YZU7uwEmrjKI"
      },
      "outputs": [],
      "source": [
        "# Make sure you run this code cell everytime you open the notebook!\n",
        "import networkx as nx            # Import NetworkX library as nx for its network functions\n",
        "import numpy as np               # Import NumPy library as np for its mathematical functions\n",
        "import matplotlib.pyplot as plt  # Import Matplotlib library as plt for its plotting functions\n",
        "import matplotlib as mplt        # Import Matplotlib library as plt for its plotting functions"
      ]
    },
    {
      "cell_type": "markdown",
      "source": [
        "### DATASET: FRIENDSHIP NETWORK\n",
        "\n",
        "This is the friendship network I created using the data I collected from the class. First create the network, and then use NetworkX package to analyze this network."
      ],
      "metadata": {
        "id": "NHU9RDr4lCQg"
      }
    },
    {
      "cell_type": "code",
      "execution_count": 18,
      "metadata": {
        "id": "cvS4JEXHrjKJ"
      },
      "outputs": [],
      "source": [
        "# Friendship network for Networks class members\n",
        "FG =nx.Graph([(\"T\", \"H\"), (\"T\", \"J\"), (\"X\", \"V\"), (\"J\", \"S\"), (\"J\", \"U\"), (\"J\", \"X\"), (\"E\", \"M\"),  (\"E\", \"Q\"), \\\n",
        "              (\"M\", \"Q\"), (\"K\", \"O\"), (\"K\", \"Q\"), (\"K\", \"S\"), (\"K\", \"T\"), \\\n",
        "              (\"S\", \"I\"), (\"H\", \"I\"), (\"H\", \"N\"), (\"A\", \"B\"), (\"A\", \"H\"), (\"A\", \"O\"), (\"A\", \"P\"), \\\n",
        "              (\"R\", \"A\"), (\"I\", \"K\"), (\"I\", \"O\"), (\"I\", \"R\"), (\"I\", \"S\"), (\"I\", \"W\"), (\"F\", \"G\"), (\"G\", \"B\"), \\\n",
        "              (\"G\", \"I\"), (\"G\", \"O\"), (\"L\", \"W\"), (\"O\", \"B\"), (\"B\", \"K\"), (\"B\", \"R\")])"
      ]
    }
  ],
  "metadata": {
    "colab": {
      "collapsed_sections": [],
      "provenance": []
    },
    "kernelspec": {
      "display_name": "Python 3",
      "language": "python",
      "name": "python3"
    },
    "language_info": {
      "codemirror_mode": {
        "name": "ipython",
        "version": 3
      },
      "file_extension": ".py",
      "mimetype": "text/x-python",
      "name": "python",
      "nbconvert_exporter": "python",
      "pygments_lexer": "ipython3",
      "version": "3.8.8"
    },
    "vscode": {
      "interpreter": {
        "hash": "f32fe3d3d03892abc1059a57fadab5487cfa38b0d299e1290bcdec82362d70ad"
      }
    }
  },
  "nbformat": 4,
  "nbformat_minor": 0
}