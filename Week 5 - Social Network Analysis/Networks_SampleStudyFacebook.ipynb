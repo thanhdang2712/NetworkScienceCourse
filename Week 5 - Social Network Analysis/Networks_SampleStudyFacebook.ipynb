{
  "cells": [
    {
      "cell_type": "markdown",
      "metadata": {
        "id": "g3y2ZzPorjKG"
      },
      "source": [
        "# Networks: Friends, Epidemics & Terrorists\n",
        "## Facebook Social Circles\n",
        "\n",
        "In 2012, Julian McAuley and Jure Leskovec devised a novel method of identifying people's social circles by analyzing data collected from Facebook, Twitter and Google+. In this case study, you will use the Facebook dataset -- which is provided alongside this notebook -- to perform some basic network analysis. "
      ]
    },
    {
      "cell_type": "markdown",
      "source": [],
      "metadata": {
        "id": "muIUpwBj3MEj"
      }
    },
    {
      "cell_type": "code",
      "execution_count": null,
      "metadata": {
        "id": "YZU7uwEmrjKI"
      },
      "outputs": [],
      "source": [
        "# Make sure you run this code cell everytime you open the notebook!\n",
        "import pandas as pd              # Import Pandas for its data manipulation and analysis functions\n",
        "import networkx as nx            # Import NetworkX library as nx for its network functions\n",
        "import numpy as np               # Import NumPy library as np for its mathematical functions\n",
        "import matplotlib.pyplot as plt  # Import Matplotlib library as plt for its plotting functions\n",
        "import matplotlib as mplt        # Import Matplotlib library as mplt for its plotting functions"
      ]
    },
    {
      "cell_type": "markdown",
      "source": [
        "## DATASET: FACEBOOK NETWORK\n",
        "\n",
        "We will first upload the Facebook network, and then use NetworkX package to analyze this network. \n",
        "\n",
        "PLEASE BE AWARE THAT SOME ANALYSIS, SUCH AS FINDING CLIQUES, MAY NOT RUN DUE TO THE SIZE OF THE NETWORK AND THE RESOURCES PROVIDED BY GOOGLE. IN THIS CASE, YOU WILL SEE A WARNING THAT SAYS \"OUT OF MEMORY.\" THOSE ANALYSIS CAN BE OMITTED. YOU MAY BE ABLE TO COMPLETE THESE ANALYSIS IN ANACONDA BY OPENING YOUR PYTHON NOTEBOOK USING ANACONDA SOFTWARE. I WILL PROVIDE GUIDELINES FOR THE EXAM IF I BELIEVE THIS CAN BE DONE WITHOUT MUCH HASSLE."
      ],
      "metadata": {
        "id": "NHU9RDr4lCQg"
      }
    },
    {
      "cell_type": "code",
      "execution_count": null,
      "metadata": {
        "id": "cvS4JEXHrjKJ",
        "colab": {
          "base_uri": "https://localhost:8080/",
          "height": 424
        },
        "outputId": "8556420a-8463-414d-8170-901709f2a246"
      },
      "outputs": [
        {
          "output_type": "execute_result",
          "data": {
            "text/plain": [
              "       start_node  end_node\n",
              "0               0         1\n",
              "1               0         2\n",
              "2               0         3\n",
              "3               0         4\n",
              "4               0         5\n",
              "...           ...       ...\n",
              "88229        4026      4030\n",
              "88230        4027      4031\n",
              "88231        4027      4032\n",
              "88232        4027      4038\n",
              "88233        4031      4038\n",
              "\n",
              "[88234 rows x 2 columns]"
            ],
            "text/html": [
              "\n",
              "  <div id=\"df-04ed525e-5b9c-47d0-b40c-bdb9bd137d02\">\n",
              "    <div class=\"colab-df-container\">\n",
              "      <div>\n",
              "<style scoped>\n",
              "    .dataframe tbody tr th:only-of-type {\n",
              "        vertical-align: middle;\n",
              "    }\n",
              "\n",
              "    .dataframe tbody tr th {\n",
              "        vertical-align: top;\n",
              "    }\n",
              "\n",
              "    .dataframe thead th {\n",
              "        text-align: right;\n",
              "    }\n",
              "</style>\n",
              "<table border=\"1\" class=\"dataframe\">\n",
              "  <thead>\n",
              "    <tr style=\"text-align: right;\">\n",
              "      <th></th>\n",
              "      <th>start_node</th>\n",
              "      <th>end_node</th>\n",
              "    </tr>\n",
              "  </thead>\n",
              "  <tbody>\n",
              "    <tr>\n",
              "      <th>0</th>\n",
              "      <td>0</td>\n",
              "      <td>1</td>\n",
              "    </tr>\n",
              "    <tr>\n",
              "      <th>1</th>\n",
              "      <td>0</td>\n",
              "      <td>2</td>\n",
              "    </tr>\n",
              "    <tr>\n",
              "      <th>2</th>\n",
              "      <td>0</td>\n",
              "      <td>3</td>\n",
              "    </tr>\n",
              "    <tr>\n",
              "      <th>3</th>\n",
              "      <td>0</td>\n",
              "      <td>4</td>\n",
              "    </tr>\n",
              "    <tr>\n",
              "      <th>4</th>\n",
              "      <td>0</td>\n",
              "      <td>5</td>\n",
              "    </tr>\n",
              "    <tr>\n",
              "      <th>...</th>\n",
              "      <td>...</td>\n",
              "      <td>...</td>\n",
              "    </tr>\n",
              "    <tr>\n",
              "      <th>88229</th>\n",
              "      <td>4026</td>\n",
              "      <td>4030</td>\n",
              "    </tr>\n",
              "    <tr>\n",
              "      <th>88230</th>\n",
              "      <td>4027</td>\n",
              "      <td>4031</td>\n",
              "    </tr>\n",
              "    <tr>\n",
              "      <th>88231</th>\n",
              "      <td>4027</td>\n",
              "      <td>4032</td>\n",
              "    </tr>\n",
              "    <tr>\n",
              "      <th>88232</th>\n",
              "      <td>4027</td>\n",
              "      <td>4038</td>\n",
              "    </tr>\n",
              "    <tr>\n",
              "      <th>88233</th>\n",
              "      <td>4031</td>\n",
              "      <td>4038</td>\n",
              "    </tr>\n",
              "  </tbody>\n",
              "</table>\n",
              "<p>88234 rows × 2 columns</p>\n",
              "</div>\n",
              "      <button class=\"colab-df-convert\" onclick=\"convertToInteractive('df-04ed525e-5b9c-47d0-b40c-bdb9bd137d02')\"\n",
              "              title=\"Convert this dataframe to an interactive table.\"\n",
              "              style=\"display:none;\">\n",
              "        \n",
              "  <svg xmlns=\"http://www.w3.org/2000/svg\" height=\"24px\"viewBox=\"0 0 24 24\"\n",
              "       width=\"24px\">\n",
              "    <path d=\"M0 0h24v24H0V0z\" fill=\"none\"/>\n",
              "    <path d=\"M18.56 5.44l.94 2.06.94-2.06 2.06-.94-2.06-.94-.94-2.06-.94 2.06-2.06.94zm-11 1L8.5 8.5l.94-2.06 2.06-.94-2.06-.94L8.5 2.5l-.94 2.06-2.06.94zm10 10l.94 2.06.94-2.06 2.06-.94-2.06-.94-.94-2.06-.94 2.06-2.06.94z\"/><path d=\"M17.41 7.96l-1.37-1.37c-.4-.4-.92-.59-1.43-.59-.52 0-1.04.2-1.43.59L10.3 9.45l-7.72 7.72c-.78.78-.78 2.05 0 2.83L4 21.41c.39.39.9.59 1.41.59.51 0 1.02-.2 1.41-.59l7.78-7.78 2.81-2.81c.8-.78.8-2.07 0-2.86zM5.41 20L4 18.59l7.72-7.72 1.47 1.35L5.41 20z\"/>\n",
              "  </svg>\n",
              "      </button>\n",
              "      \n",
              "  <style>\n",
              "    .colab-df-container {\n",
              "      display:flex;\n",
              "      flex-wrap:wrap;\n",
              "      gap: 12px;\n",
              "    }\n",
              "\n",
              "    .colab-df-convert {\n",
              "      background-color: #E8F0FE;\n",
              "      border: none;\n",
              "      border-radius: 50%;\n",
              "      cursor: pointer;\n",
              "      display: none;\n",
              "      fill: #1967D2;\n",
              "      height: 32px;\n",
              "      padding: 0 0 0 0;\n",
              "      width: 32px;\n",
              "    }\n",
              "\n",
              "    .colab-df-convert:hover {\n",
              "      background-color: #E2EBFA;\n",
              "      box-shadow: 0px 1px 2px rgba(60, 64, 67, 0.3), 0px 1px 3px 1px rgba(60, 64, 67, 0.15);\n",
              "      fill: #174EA6;\n",
              "    }\n",
              "\n",
              "    [theme=dark] .colab-df-convert {\n",
              "      background-color: #3B4455;\n",
              "      fill: #D2E3FC;\n",
              "    }\n",
              "\n",
              "    [theme=dark] .colab-df-convert:hover {\n",
              "      background-color: #434B5C;\n",
              "      box-shadow: 0px 1px 3px 1px rgba(0, 0, 0, 0.15);\n",
              "      filter: drop-shadow(0px 1px 2px rgba(0, 0, 0, 0.3));\n",
              "      fill: #FFFFFF;\n",
              "    }\n",
              "  </style>\n",
              "\n",
              "      <script>\n",
              "        const buttonEl =\n",
              "          document.querySelector('#df-04ed525e-5b9c-47d0-b40c-bdb9bd137d02 button.colab-df-convert');\n",
              "        buttonEl.style.display =\n",
              "          google.colab.kernel.accessAllowed ? 'block' : 'none';\n",
              "\n",
              "        async function convertToInteractive(key) {\n",
              "          const element = document.querySelector('#df-04ed525e-5b9c-47d0-b40c-bdb9bd137d02');\n",
              "          const dataTable =\n",
              "            await google.colab.kernel.invokeFunction('convertToInteractive',\n",
              "                                                     [key], {});\n",
              "          if (!dataTable) return;\n",
              "\n",
              "          const docLinkHtml = 'Like what you see? Visit the ' +\n",
              "            '<a target=\"_blank\" href=https://colab.research.google.com/notebooks/data_table.ipynb>data table notebook</a>'\n",
              "            + ' to learn more about interactive tables.';\n",
              "          element.innerHTML = '';\n",
              "          dataTable['output_type'] = 'display_data';\n",
              "          await google.colab.output.renderOutput(dataTable, element);\n",
              "          const docLink = document.createElement('div');\n",
              "          docLink.innerHTML = docLinkHtml;\n",
              "          element.appendChild(docLink);\n",
              "        }\n",
              "      </script>\n",
              "    </div>\n",
              "  </div>\n",
              "  "
            ]
          },
          "metadata": {},
          "execution_count": 13
        }
      ],
      "source": [
        "# Load the network generated from Facebook data\n",
        "# UPLOAD THE FILE ON THE LEFT, AND RUN THE CODE BELOW \n",
        "# NOTE THAT THE DATA FILE WILL BE REMOVED FROM LEFT AFTER YOU CLOSE THE COLAB PAGE.\n",
        "facebook = pd.read_csv('facebook_combined.txt', sep=' ', names=['start_node', 'end_node'])\n",
        "facebook"
      ]
    },
    {
      "cell_type": "markdown",
      "source": [
        "Each row in this table corresponds to an edge and each of the columns provide the starting and ending point of the edge, respectively. We can construct a network from this table using the following code block."
      ],
      "metadata": {
        "id": "JcSrRqrS4epm"
      }
    },
    {
      "cell_type": "code",
      "source": [
        "AG = nx.from_pandas_edgelist(facebook, 'start_node', 'end_node')"
      ],
      "metadata": {
        "id": "CuMUFeQkXjnd"
      },
      "execution_count": null,
      "outputs": []
    }
  ],
  "metadata": {
    "colab": {
      "collapsed_sections": [],
      "provenance": []
    },
    "kernelspec": {
      "display_name": "Python 3",
      "language": "python",
      "name": "python3"
    },
    "language_info": {
      "codemirror_mode": {
        "name": "ipython",
        "version": 3
      },
      "file_extension": ".py",
      "mimetype": "text/x-python",
      "name": "python",
      "nbconvert_exporter": "python",
      "pygments_lexer": "ipython3",
      "version": "3.8.8"
    },
    "vscode": {
      "interpreter": {
        "hash": "f32fe3d3d03892abc1059a57fadab5487cfa38b0d299e1290bcdec82362d70ad"
      }
    }
  },
  "nbformat": 4,
  "nbformat_minor": 0
}